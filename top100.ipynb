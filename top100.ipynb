{
 "cells": [
  {
   "cell_type": "code",
   "execution_count": 70,
   "id": "9c2b774b-c7c1-4a72-b7b2-0f9d026c400b",
   "metadata": {},
   "outputs": [],
   "source": [
    "from bs4 import BeautifulSoup\n",
    "import requests\n",
    "import pandas as pd"
   ]
  },
  {
   "cell_type": "code",
   "execution_count": 71,
   "id": "b410910b-fce1-42f1-a98c-c8d14785ba07",
   "metadata": {},
   "outputs": [],
   "source": [
    "url = \"http://www.popvortex.com/music/charts/top-100-songs.php\""
   ]
  },
  {
   "cell_type": "code",
   "execution_count": 72,
   "id": "cfd201a3-e852-4b79-a78d-9c2a8859c6cb",
   "metadata": {},
   "outputs": [
    {
     "data": {
      "text/plain": [
       "200"
      ]
     },
     "execution_count": 72,
     "metadata": {},
     "output_type": "execute_result"
    }
   ],
   "source": [
    "response = requests.get(url)\n",
    "response.status_code # 200 status code means OK!"
   ]
  },
  {
   "cell_type": "code",
   "execution_count": 73,
   "id": "1b385050-1e0f-471c-8d5b-0524d240674c",
   "metadata": {},
   "outputs": [],
   "source": [
    "soup = BeautifulSoup(response.content, \"html.parser\")"
   ]
  },
  {
   "cell_type": "code",
   "execution_count": 74,
   "id": "5e691b8b-d0fd-4656-9a3f-045f2fe8042d",
   "metadata": {},
   "outputs": [],
   "source": [
    "# print(soup.prettify())"
   ]
  },
  {
   "cell_type": "code",
   "execution_count": 83,
   "id": "2df90012-fc62-41af-b1a3-22455bf9859e",
   "metadata": {},
   "outputs": [
    {
     "name": "stdout",
     "output_type": "stream",
     "text": [
      "About Damn Time\n"
     ]
    }
   ],
   "source": [
    "for track in soup.select('#chart-position-1 > div:nth-child(2) > p:nth-child(1) > cite:nth-child(1)'):\n",
    "    print(track.get_text())"
   ]
  },
  {
   "cell_type": "code",
   "execution_count": 80,
   "id": "c5279608-267a-41e0-b7b6-91b72082fa22",
   "metadata": {},
   "outputs": [],
   "source": [
    "track_names = []\n",
    "for i in range(1, 100, 1):\n",
    "    track_name = soup.select(\"#chart-position-\"+str(i)+ \"> div:nth-child(2) > p:nth-child(1) > cite:nth-child(1)\")\n",
    "    track_names.append(*track_name)"
   ]
  },
  {
   "cell_type": "code",
   "execution_count": 82,
   "id": "3fd622d9-8c3c-4dbd-bde0-600a1ab036b4",
   "metadata": {},
   "outputs": [],
   "source": [
    "# track_names"
   ]
  },
  {
   "cell_type": "code",
   "execution_count": null,
   "id": "1220f64a-108b-41b1-a311-2897e3796663",
   "metadata": {},
   "outputs": [],
   "source": [
    "artists = []\n",
    "for i in range(1, 100, 1):    \n",
    "    artist = soup.select('#chart-position-'+str(i)+ '> div:nth-child(2) > p:nth-child(1) > em:nth-child(2)')\n",
    "    artists.append(*artist)    "
   ]
  },
  {
   "cell_type": "code",
   "execution_count": null,
   "id": "445ae1db-6cc4-4ad6-80e8-f9a6c3a6d069",
   "metadata": {},
   "outputs": [],
   "source": [
    "# artists"
   ]
  },
  {
   "cell_type": "code",
   "execution_count": null,
   "id": "5c9c91d9-e655-466f-8125-3ef3e585a511",
   "metadata": {},
   "outputs": [],
   "source": [
    "track_names = pd.DataFrame(track, columns=['Songt"
   ]
  }
 ],
 "metadata": {
  "kernelspec": {
   "display_name": "Python 3 (ipykernel)",
   "language": "python",
   "name": "python3"
  },
  "language_info": {
   "codemirror_mode": {
    "name": "ipython",
    "version": 3
   },
   "file_extension": ".py",
   "mimetype": "text/x-python",
   "name": "python",
   "nbconvert_exporter": "python",
   "pygments_lexer": "ipython3",
   "version": "3.9.7"
  }
 },
 "nbformat": 4,
 "nbformat_minor": 5
}
